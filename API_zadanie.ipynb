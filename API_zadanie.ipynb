{
 "cells": [
  {
   "cell_type": "code",
   "execution_count": 15,
   "metadata": {},
   "outputs": [
    {
     "name": "stdout",
     "output_type": "stream",
     "text": [
      "<Response [200]>\n"
     ]
    }
   ],
   "source": [
    "import requests\n",
    "url = \"http://localhost:5000/api/v1.0/predict?x=2\"\n",
    "res = requests.get(url)\n",
    "print(res)"
   ]
  },
  {
   "cell_type": "code",
   "execution_count": 16,
   "metadata": {},
   "outputs": [
    {
     "name": "stdout",
     "output_type": "stream",
     "text": [
      "b'{\"features\":{\"sum\":2.0,\"x\":2.0,\"y\":0},\"prediction\":0}\\n'\n"
     ]
    }
   ],
   "source": [
    "print(res.content)"
   ]
  },
  {
   "cell_type": "code",
   "execution_count": 6,
   "metadata": {},
   "outputs": [
    {
     "name": "stdout",
     "output_type": "stream",
     "text": [
      "Overwriting app.py\n"
     ]
    }
   ],
   "source": [
    "%%file app.py\n",
    "\n",
    "from flask import Flask, jsonify, request\n",
    "\n",
    "app = Flask(__name__)\n",
    "\n",
    "@app.route('/api/v1.0/predict', methods=['GET'])\n",
    "def predict():\n",
    "    x = request.args.get('x', default=0, type=float)\n",
    "    y = request.args.get('y', default=0, type=float)\n",
    "    sum_of_numbers = x + y\n",
    "\n",
    "    prediction = 1 if sum_of_numbers > 5.8 else 0\n",
    "\n",
    "    return jsonify({\n",
    "        \"prediction\": prediction,\n",
    "        \"features\": {\n",
    "            \"x\": x,\n",
    "            \"y\": y,\n",
    "            \"sum\": sum_of_numbers\n",
    "        }\n",
    "    })\n",
    "\n",
    "if __name__ == '__main__':\n",
    "    app.run(debug=True, host='0.0.0.0', port=5000)"
   ]
  },
  {
   "cell_type": "markdown",
   "metadata": {},
   "source": [
    "Docker"
   ]
  },
  {
   "cell_type": "code",
   "execution_count": 7,
   "metadata": {},
   "outputs": [
    {
     "name": "stdout",
     "output_type": "stream",
     "text": [
      "Overwriting requirements.txt\n"
     ]
    }
   ],
   "source": [
    "%%file requirements.txt\n",
    "Flask==3.0.1"
   ]
  },
  {
   "cell_type": "code",
   "execution_count": 17,
   "metadata": {},
   "outputs": [
    {
     "name": "stdout",
     "output_type": "stream",
     "text": [
      "Overwriting Dockerfile\n"
     ]
    }
   ],
   "source": [
    "%%file Dockerfile\n",
    "FROM python:3.11-slim-buster\n",
    "\n",
    "WORKDIR /app\n",
    "\n",
    "COPY requirements.txt requirements.txt\n",
    "\n",
    "RUN pip install -r requirements.txt\n",
    "\n",
    "COPY app.py .\n",
    "\n",
    "ENV FLASK_APP=app\n",
    "\n",
    "EXPOSE 5000\n",
    "CMD [\"flask\", \"run\", \"--host\", \"0.0.0.0\", \"--port\", \"5000\"]"
   ]
  }
 ],
 "metadata": {
  "kernelspec": {
   "display_name": "python_new",
   "language": "python",
   "name": "python3"
  },
  "language_info": {
   "codemirror_mode": {
    "name": "ipython",
    "version": 3
   },
   "file_extension": ".py",
   "mimetype": "text/x-python",
   "name": "python",
   "nbconvert_exporter": "python",
   "pygments_lexer": "ipython3",
   "version": "3.10.15"
  }
 },
 "nbformat": 4,
 "nbformat_minor": 2
}
